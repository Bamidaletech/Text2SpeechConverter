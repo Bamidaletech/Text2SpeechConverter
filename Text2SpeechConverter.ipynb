{
 "cells": [
  {
   "cell_type": "code",
   "execution_count": 1,
   "id": "d5a323f6-0586-481f-97aa-c37125ba9ec2",
   "metadata": {},
   "outputs": [],
   "source": [
    "import tkinter as tk\n",
    "from tkinter import PhotoImage, Text, Button, Label, Frame, END, LEFT, GROOVE, WORD\n",
    "from tkinter.ttk import Combobox\n",
    "import pyttsx3"
   ]
  },
  {
   "cell_type": "code",
   "execution_count": 2,
   "id": "8695c396-f1b5-4b0e-a3e2-3b047b8c8372",
   "metadata": {},
   "outputs": [],
   "source": [
    "# Initialize the Tkinter window\n",
    "root = tk.Tk()\n",
    "root.title(\"Bamidaletech Text to Speech Converter\")\n",
    "root.geometry(\"1000x580+200+80\")\n",
    "root.resizable(False, False)\n",
    "root.configure(bg=\"#F7AC40\")"
   ]
  },
  {
   "cell_type": "code",
   "execution_count": 3,
   "id": "634487f4-9b91-4311-b45e-1cc85450da31",
   "metadata": {},
   "outputs": [],
   "source": [
    "# Initialize the pyttsx3 TTS engine\n",
    "tts = pyttsx3.init()"
   ]
  },
  {
   "cell_type": "code",
   "execution_count": 4,
   "id": "01b63559-7bc7-4984-ba80-1ed4ad8f0ccc",
   "metadata": {},
   "outputs": [],
   "source": [
    "# Function to speak the text from the text box\n",
    "def speaknow():\n",
    "    text = text_box.get(1.0, END).strip()\n",
    "    gender = gender_box.get().strip()\n",
    "    speed = speed_box.get().strip()\n",
    "    voices = tts.getProperty('voices')\n",
    "\n",
    "    if text:\n",
    "        # Set voice based on gender\n",
    "        if gender == 'Male':\n",
    "            tts.setProperty('voice', voices[0].id)\n",
    "        else:\n",
    "            tts.setProperty('voice', voices[1].id)\n",
    "\n",
    "        # Set speech rate based on speed\n",
    "        if speed == 'Fast':\n",
    "            tts.setProperty('rate', 250)\n",
    "        elif speed == 'Medium':\n",
    "            tts.setProperty('rate', 150)\n",
    "        else:\n",
    "            tts.setProperty('rate', 60)\n",
    "\n",
    "        # Speak the text\n",
    "        tts.say(text)\n",
    "        tts.runAndWait()"
   ]
  },
  {
   "cell_type": "code",
   "execution_count": 5,
   "id": "46244fad-ab54-40e0-86fd-edc3916d256a",
   "metadata": {},
   "outputs": [],
   "source": [
    "# Load images\n",
    "B_logo = PhotoImage(file=\"C:/Users/DALE/Desktop/DATA SCIENCE GOOGLE COLAB/B.png\")\n",
    "logo_image = PhotoImage(file=\"C:/Users/DALE/Desktop/DATA SCIENCE GOOGLE COLAB/Bamidaletech.png\")\n",
    "picture = PhotoImage(file=\"C:/Users/DALE/Desktop/DATA SCIENCE GOOGLE COLAB/Bamidaletech.png\")\n",
    "play_button = PhotoImage(file=\"C:/Users/DALE/Desktop/DATA SCIENCE GOOGLE COLAB/talk.png\")"
   ]
  },
  {
   "cell_type": "code",
   "execution_count": 6,
   "id": "9298145c-880d-43df-b915-ec832dde76b1",
   "metadata": {},
   "outputs": [],
   "source": [
    "# Configure window icon\n",
    "root.iconphoto(False, logo_image)"
   ]
  },
  {
   "cell_type": "code",
   "execution_count": 7,
   "id": "82e38552-3977-40cc-9946-96f34dd9fa29",
   "metadata": {},
   "outputs": [],
   "source": [
    "# Upper frame\n",
    "upper_frame = Frame(root, bg=\"#14A7DD\", width=1200, height=130)\n",
    "upper_frame.place(x=0, y=0)"
   ]
  },
  {
   "cell_type": "code",
   "execution_count": 8,
   "id": "d154ddd3-c714-4344-8013-b737e2b60b96",
   "metadata": {},
   "outputs": [],
   "source": [
    "Label(upper_frame, image=picture, bg=\"#14A7DD\").place(x=150, y=20)\n",
    "Label(upper_frame, text=\"Text to Speech Converter\", font=\"TimesNewroman 40 bold\", bg=\"#14A7DD\", fg='white').place(x=250, y=35)"
   ]
  },
  {
   "cell_type": "code",
   "execution_count": 9,
   "id": "0ca0b1a6-6387-4fc5-9925-55e7ff56cbfb",
   "metadata": {},
   "outputs": [],
   "source": [
    "# Text box for input\n",
    "text_box = Text(root, font=\"calibri 20\", bg=\"white\", relief=GROOVE, wrap=WORD, bd=0)\n",
    "text_box.place(x=30, y=150, width=940, height=180)"
   ]
  },
  {
   "cell_type": "code",
   "execution_count": 10,
   "id": "95e6426b-e974-40d2-afcd-a1fefdd0eb62",
   "metadata": {},
   "outputs": [],
   "source": [
    "# Dropdowns for gender and speed\n",
    "gender_box = Combobox(root, values=['Male', 'Female'], font=\"Robote 12\", state='readonly', width=12)\n",
    "gender_box.place(x=340, y=400)\n",
    "gender_box.set('Male')"
   ]
  },
  {
   "cell_type": "code",
   "execution_count": 11,
   "id": "0a62fa19-ff96-435c-b71a-5f6d64057864",
   "metadata": {},
   "outputs": [],
   "source": [
    "speed_box = Combobox(root, values=['Fast', 'Medium', 'Slow'], font=\"Robote 12\", state='readonly', width=12)\n",
    "speed_box.place(x=540, y=400)\n",
    "speed_box.set('Medium')"
   ]
  },
  {
   "cell_type": "code",
   "execution_count": 12,
   "id": "351d7e18-983a-4d05-b15a-448295b8d83c",
   "metadata": {},
   "outputs": [],
   "source": [
    "Label(root, text=\"Select Voice\", font='TimesNewRoman 15 bold', bg=\"#F7AC40\", fg=\"White\").place(x=340, y=370)\n",
    "Label(root, text=\"Select Speed\", font='TimesNewRoman 15 bold', bg=\"#F7AC40\", fg=\"White\").place(x=540, y=370)"
   ]
  },
  {
   "cell_type": "code",
   "execution_count": null,
   "id": "2b384233-bc1d-4398-8acf-e6e6107690f7",
   "metadata": {},
   "outputs": [],
   "source": [
    "# Play button to trigger text-to-speech\n",
    "play_btn = Button(root, text=\"Play\", compound=LEFT, image=play_button, bg='white', width=140, font=\"arial 14 bold\", borderwidth=0.1, command=speaknow)\n",
    "play_btn.place(x=435, y=450)\n",
    "\n",
    "# Display logo\n",
    "Label(root, image=B_logo, bg=\"#F7AC40\").place(x=915, y=480)\n",
    "\n",
    "# Run the Tkinter main loop\n",
    "root.mainloop()"
   ]
  },
  {
   "cell_type": "code",
   "execution_count": null,
   "id": "a22cc531-0892-4930-98b5-021edf06936a",
   "metadata": {},
   "outputs": [],
   "source": []
  }
 ],
 "metadata": {
  "kernelspec": {
   "display_name": "Python 3 (ipykernel)",
   "language": "python",
   "name": "python3"
  },
  "language_info": {
   "codemirror_mode": {
    "name": "ipython",
    "version": 3
   },
   "file_extension": ".py",
   "mimetype": "text/x-python",
   "name": "python",
   "nbconvert_exporter": "python",
   "pygments_lexer": "ipython3",
   "version": "3.11.7"
  }
 },
 "nbformat": 4,
 "nbformat_minor": 5
}
